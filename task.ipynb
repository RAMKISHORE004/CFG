{
  "cells": [
    {
      "cell_type": "markdown",
      "metadata": {
        "id": "mOL5d1jbVSQs"
      },
      "source": [
        "<img src=\"images/cs.png\">"
      ]
    },
    {
      "cell_type": "markdown",
      "metadata": {
        "id": "b3WXT3YpVSQy"
      },
      "source": [
        "### Walk through the basics of Apache Cassandra. Complete the following tasks:<li> Create a table in Apache Cassandra, <li> Insert rows of data,<li> Run a simple SQL query to validate the information. <br>\n",
        "`#####` denotes where the code needs to be completed."
      ]
    },
    {
      "cell_type": "markdown",
      "metadata": {
        "id": "2HsauHdoVSQz"
      },
      "source": [
        "#### Import Apache Cassandra python package"
      ]
    },
    {
      "cell_type": "code",
      "execution_count": null,
      "metadata": {
        "id": "mxVJH_oWVSQ6"
      },
      "outputs": [],
      "source": [
        "#importing Required modules\n",
        "import pandas as pd\n",
        "from cassandra.cluster import Cluster\n",
        "from cassandra.query import dict_factory"
      ]
    },
    {
      "cell_type": "markdown",
      "metadata": {
        "id": "-GE6TwKFVSQ_"
      },
      "source": [
        "### Create a connection to the database"
      ]
    },
    {
      "cell_type": "markdown",
      "metadata": {
        "id": "EN5KLIPnVSRC"
      },
      "source": [
        "### TO-DO: Create a keyspace to do the work in "
      ]
    },
    {
      "cell_type": "code",
      "execution_count": null,
      "metadata": {
        "id": "EJJxCv-cVSRD"
      },
      "outputs": [],
      "source": [
        "## TO-DO: Create the keyspace"
      ]
    },
    {
      "cell_type": "markdown",
      "metadata": {
        "id": "2JCVmWAjVSRE"
      },
      "source": [
        "### TO-DO: Connect to the Keyspace"
      ]
    },
    {
      "cell_type": "code",
      "execution_count": null,
      "metadata": {
        "id": "NO8eutX8VSRI"
      },
      "outputs": [],
      "source": [
        "## To-Do: Add in the keyspace you created"
      ]
    },
    {
      "cell_type": "markdown",
      "metadata": {
        "id": "whcQXCPGVSRJ"
      },
      "source": [
        "### Create a Song Library that contains a list of songs, including the song name, artist name, year, album it was from, and if it was a single. \n",
        "\n",
        "`song_title\n",
        "artist_name\n",
        "year\n",
        "album_name\n",
        "single`"
      ]
    },
    {
      "cell_type": "markdown",
      "metadata": {
        "id": "Zf99WsQQVSRL"
      },
      "source": [
        "### TO-DO: You need to create a table to be able to run the following query: \n",
        "`select * from songs WHERE year=1970 AND artist_name=\"The Beatles\"`"
      ]
    },
    {
      "cell_type": "code",
      "execution_count": null,
      "metadata": {
        "id": "cPZ2l4TwVSRM"
      },
      "outputs": [],
      "source": [
        "## TO-DO: Complete the query below"
      ]
    },
    {
      "cell_type": "markdown",
      "metadata": {
        "id": "pgtYpJYBVSRN"
      },
      "source": [
        "### TO-DO: Insert the following two rows in your table\n",
        "`First Row:  \"Across The Universe\", \"The Beatles\", \"1970\", \"False\", \"Let It Be\"`\n",
        "\n",
        "`Second Row: \"The Beatles\", \"Think For Yourself\", \"False\", \"1965\", \"Rubber Soul\"`"
      ]
    },
    {
      "cell_type": "code",
      "execution_count": null,
      "metadata": {
        "id": "2ykm6ULBVSRQ"
      },
      "outputs": [],
      "source": [
        "## Add in query and then run the insert statement"
      ]
    },
    {
      "cell_type": "markdown",
      "metadata": {
        "id": "3b_0jLLrVSRS"
      },
      "source": [
        "### TO-DO: Validate your data was inserted into the table."
      ]
    },
    {
      "cell_type": "code",
      "execution_count": null,
      "metadata": {
        "scrolled": true,
        "id": "h0kotfwZVSRi"
      },
      "outputs": [],
      "source": [
        "## TO-DO: Complete and then run the select statement to validate the data was inserted into the table"
      ]
    },
    {
      "cell_type": "markdown",
      "metadata": {
        "id": "N-pe9wHXVSRk"
      },
      "source": [
        "### TO-DO: Validate the Data Model with the original query.\n",
        "\n",
        "`select * from songs WHERE YEAR=1970 AND artist_name=\"The Beatles\"`"
      ]
    },
    {
      "cell_type": "code",
      "execution_count": null,
      "metadata": {
        "id": "vPcig7aIVSRl"
      },
      "outputs": [],
      "source": [
        "##TO-DO: Complete the select statement to run the query "
      ]
    },
    {
      "cell_type": "markdown",
      "metadata": {
        "id": "X_-_HAIqVSRm"
      },
      "source": [
        "### And Finally close the session and cluster connection"
      ]
    }
  ],
  "metadata": {
    "kernelspec": {
      "display_name": "Python 3",
      "language": "python",
      "name": "python3"
    },
    "language_info": {
      "codemirror_mode": {
        "name": "ipython",
        "version": 3
      },
      "file_extension": ".py",
      "mimetype": "text/x-python",
      "name": "python",
      "nbconvert_exporter": "python",
      "pygments_lexer": "ipython3",
      "version": "3.7.0"
    },
    "colab": {
      "name": "Creating a Table with Apache Cassandra.ipynb",
      "provenance": []
    }
  },
  "nbformat": 4,
  "nbformat_minor": 0
}
