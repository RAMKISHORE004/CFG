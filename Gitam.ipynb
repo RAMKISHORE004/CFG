{
 "cells": [
  {
   "cell_type": "code",
   "execution_count": 8,
   "metadata": {},
   "outputs": [],
   "source": [
    "import cv2\n",
    "import os\n",
    "import tensorflow as tf\n",
    "from tensorflow import keras\n",
    "from PIL import Image\n",
    "import matplotlib.pyplot as plt\n",
    "import numpy as np\n",
    "from sklearn.model_selection import train_test_split\n",
    "from keras.utils.np_utils import normalize\n",
    "from keras.models import Sequential\n",
    "from tensorflow.keras.layers import Conv2D, MaxPool2D\n",
    "from tensorflow.keras.layers import Activation, Dropout, Flatten, Dense\n",
    "from tensorflow.keras.utils import to_categorical\n",
    "\n",
    "image_directory='DS_IDRID/'\n",
    "\n",
    "no_diabetic_images=os.listdir(image_directory+ 'no')\n",
    "yes_diabetic_images=os.listdir(image_directory+ 'yes')\n",
    "dataset=[]\n",
    "label=[]\n"
   ]
  },
  {
   "cell_type": "code",
   "execution_count": 4,
   "metadata": {},
   "outputs": [
    {
     "name": "stdout",
     "output_type": "stream",
     "text": [
      "['100_IDRiD_074_-1.jpg', '102_IDRiD_078_-0.jpg', '103_IDRiD_393_-0.jpg', '104_IDRiD_159_-0.jpg', '106_IDRiD_147_-0.jpg', '107_IDRiD_407_-2.jpg', '108_IDRiD_381_-0.jpg', '10_IDRiD_100_-2.jpg', '110_IDRiD_348_-2.jpg', '111_IDRiD_248_-2.jpg', '112_IDRiD_155_-0.jpg', '113_IDRiD_082_-2.jpg', '114_IDRiD_360_-2.jpg', '115_IDRiD_260_-2.jpg', '116_IDRiD_303_-2.jpg', '117_IDRiD_163_-0.jpg', '11_IDRiD_028_-2.jpg', '121_IDRiD_311_-2.jpg', '123_IDRiD_171_-0.jpg', '124_IDRiD_071_-2.jpg', '125_IDRiD_211_-0.jpg', '127_IDRiD_256_-1.jpg', '128_IDRiD_063_-2.jpg', '12_IDRiD_090_-0.jpg', '132_IDRiD_182_-0.jpg', '133_IDRiD_335_-0.jpg', '134_IDRiD_235_-0.jpg', '136_IDRiD_128_-2.jpg', '137_IDRiD_203_-1.jpg', '138_IDRiD_136_-2.jpg', '139_IDRiD_281_-2.jpg', '13_IDRiD_059_-2.jpg', '140_IDRiD_227_-0.jpg', '143_IDRiD_190_-0.jpg', '144_IDRiD_047_-2.jpg', '145_IDRiD_059_-2.jpg', '147_IDRiD_293_-2.jpg', '148_IDRiD_124_-2.jpg', '149_IDRiD_244_-0.jpg', '14_IDRiD_024_-2.jpg', '150_IDRiD_102_-2.jpg', '155_IDRiD_061_-2.jpg', '158_IDRiD_370_-0.jpg', '159_IDRiD_213_-0.jpg', '15_IDRiD_102_-2.jpg', '161_IDRiD_073_-2.jpg', '162_IDRiD_346_-0.jpg', '163_IDRiD_126_-2.jpg', '164_IDRiD_391_-2.jpg', '165_IDRiD_045_-2.jpg', '166_IDRiD_225_-0.jpg', '168_IDRiD_038_-2.jpg', '169_IDRiD_258_-0.jpg', '170_IDRiD_358_-0.jpg', '171_IDRiD_229_-0.jpg', '173_IDRiD_134_-2.jpg', '174_IDRiD_283_-2.jpg', '175_IDRiD_301_-1.jpg', '177_IDRiD_337_-2.jpg', '178_IDRiD_237_-2.jpg', '179_IDRiD_080_-2.jpg', '17_IDRiD_010_-2.jpg', '180_IDRiD_157_-0.jpg', '181_IDRiD_405_-2.jpg', '182_IDRiD_149_-0.jpg', '183_IDRiD_409_-2.jpg', '184_IDRiD_138_-0.jpg', '185_IDRiD_092_-2.jpg', '186_IDRiD_325_-2.jpg', '187_IDRiD_145_-0.jpg', '190_IDRiD_173_-0.jpg', '191_IDRiD_291_-1.jpg', '192_IDRiD_270_-2.jpg', '195_IDRiD_161_-0.jpg', '197_IDRiD_201_-2.jpg', '198_IDRiD_262_-2.jpg', '19_IDRiD_092_-0.jpg', '202_IDRiD_250_-0.jpg', '203_IDRiD_130_-2.jpg', '204_IDRiD_266_-1.jpg', '205_IDRiD_184_-0.jpg', '206_IDRiD_233_-0.jpg', '208_IDRiD_342_-0.jpg', '209_IDRiD_122_-2.jpg', '20_IDRiD_049_-2.jpg', '210_IDRiD_041_-2.jpg', '211_IDRiD_221_-0.jpg', '213_IDRiD_274_-0.jpg', '214_IDRiD_069_-2.jpg', '215_IDRiD_209_-0.jpg', '217_IDRiD_217_-0.jpg', '218_IDRiD_317_-0.jpg', '219_IDRiD_106_-2.jpg', '21_IDRiD_080_-0.jpg', '222_IDRiD_378_-0.jpg', '223_IDRiD_018_-2.jpg', '224_IDRiD_305_-0.jpg', '225_IDRiD_205_-0.jpg', '226_IDRiD_165_-0.jpg', '229_IDRiD_118_-0.jpg', '22_IDRiD_038_-0.jpg', '230_IDRiD_177_-0.jpg', '234_IDRiD_169_-0.jpg', '235_IDRiD_374_-2.jpg', '237_IDRiD_196_-2.jpg', '238_IDRiD_141_-0.jpg', '23_IDRiD_045_-0.jpg', '242_IDRiD_188_-2.jpg', '243_IDRiD_295_-0.jpg', '244_IDRiD_395_-0.jpg', '245_IDRiD_242_-2.jpg', '246_IDRiD_413_-2.jpg', '247_IDRiD_333_-2.jpg', '248_IDRiD_084_-2.jpg', '249_IDRiD_153_-0.jpg', '24_IDRiD_073_-1.jpg', '252_IDRiD_399_-0.jpg', '254_IDRiD_387_-0.jpg', '255_IDRiD_287_-0.jpg', '256_IDRiD_350_-2.jpg', '257_IDRiD_401_-2.jpg', '260_IDRiD_215_-2.jpg', '261_IDRiD_175_-0.jpg', '263_IDRiD_179_-0.jpg', '265_IDRiD_319_-2.jpg', '266_IDRiD_167_-0.jpg', '269_IDRiD_252_-2.jpg', '271_IDRiD_151_-0.jpg', '273_IDRiD_186_-2.jpg', '274_IDRiD_231_-2.jpg', '275_IDRiD_079_-1.jpg', '278_IDRiD_411_-2.jpg', '279_IDRiD_340_-2.jpg', '27_IDRiD_096_-0.jpg', '280_IDRiD_297_-0.jpg', '282_IDRiD_143_-0.jpg', '283_IDRiD_094_-2.jpg', '284_IDRiD_223_-0.jpg', '285_IDRiD_043_-2.jpg', '286_IDRiD_020_-2.jpg', '287_IDRiD_120_-2.jpg', '288_IDRiD_397_-2.jpg', '292_IDRiD_331_-0.jpg', '293_IDRiD_051_-2.jpg', '294_IDRiD_132_-2.jpg', '295_IDRiD_352_-0.jpg', '296_IDRiD_198_-1.jpg', '298_IDRiD_403_-1.jpg', '299_IDRiD_307_-0.jpg', '2_IDRiD_047_-0.jpg', '301_IDRiD_264_-0.jpg', '302_IDRiD_219_-0.jpg', '303_IDRiD_268_-0.jpg', '304_IDRiD_315_-0.jpg', '305_IDRiD_276_-0.jpg', '306_IDRiD_194_-1.jpg', '307_IDRiD_016_-2.jpg', '308_IDRiD_116_-2.jpg', '309_IDRiD_280_-2.jpg', '30_IDRiD_065_-2.jpg', '310_IDRiD_302_-1.jpg', '311_IDRiD_037_-2.jpg', '312_IDRiD_137_-2.jpg', '313_IDRiD_257_-0.jpg', '314_IDRiD_406_-0.jpg', '315_IDRiD_249_-0.jpg', '316_IDRiD_029_-2.jpg', '317_IDRiD_129_-2.jpg', '319_IDRiD_234_-0.jpg', '31_IDRiD_077_-0.jpg', '321_IDRiD_125_-2.jpg', '322_IDRiD_345_-0.jpg', '323_IDRiD_058_-2.jpg', '324_IDRiD_238_-0.jpg', '326_IDRiD_226_-0.jpg', '327_IDRiD_373_-0.jpg', '328_IDRiD_273_-0.jpg', '329_IDRiD_113_-2.jpg', '32_IDRiD_069_-0.jpg', '332_IDRiD_210_-0.jpg', '335_IDRiD_202_-0.jpg', '337_IDRiD_162_-0.jpg', '342_IDRiD_261_-2.jpg', '343_IDRiD_310_-2.jpg', '344_IDRiD_170_-0.jpg', '345_IDRiD_146_-0.jpg', '346_IDRiD_191_-2.jpg', '347_IDRiD_326_-2.jpg', '348_IDRiD_091_-2.jpg', '349_IDRiD_338_-2.jpg', '34_IDRiD_041_-0.jpg', '350_IDRiD_158_-0.jpg', '351_IDRiD_245_-2.jpg', '352_IDRiD_292_-0.jpg', '353_IDRiD_154_-0.jpg', '354_IDRiD_083_-2.jpg', '355_IDRiD_183_-2.jpg', '358_IDRiD_172_-0.jpg', '360_IDRiD_290_-1.jpg', '363_IDRiD_263_-2.jpg', '364_IDRiD_363_-2.jpg', '365_IDRiD_160_-0.jpg', '366_IDRiD_300_-2.jpg', '368_IDRiD_148_-0.jpg', '369_IDRiD_328_-2.jpg', '36_IDRiD_088_-2.jpg', '370_IDRiD_382_-0.jpg', '371_IDRiD_404_-2.jpg', '372_IDRiD_236_-2.jpg', '373_IDRiD_156_-0.jpg', '375_IDRiD_247_-2.jpg', '376_IDRiD_093_-2.jpg', '377_IDRiD_144_-0.jpg', '37_IDRiD_084_-2.jpg', '380_IDRiD_139_-0.jpg', '382_IDRiD_359_-0.jpg', '383_IDRiD_259_-0.jpg', '384_IDRiD_044_-2.jpg', '386_IDRiD_193_-0.jpg', '387_IDRiD_127_-2.jpg', '389_IDRiD_056_-2.jpg', '38_IDRiD_030_-0.jpg', '390_IDRiD_181_-0.jpg', '391_IDRiD_336_-0.jpg', '392_IDRiD_255_-0.jpg', '393_IDRiD_355_-0.jpg', '394_IDRiD_282_-2.jpg', '395_IDRiD_135_-2.jpg', '396_IDRiD_228_-0.jpg', '397_IDRiD_048_-2.jpg', '398_IDRiD_200_-0.jpg', '39_IDRiD_075_-0.jpg', '3_IDRiD_063_-1.jpg', '400_IDRiD_060_-2.jpg', '401_IDRiD_003_-2.jpg', '402_IDRiD_103_-2.jpg', '403_IDRiD_312_-0.jpg', '404_IDRiD_212_-0.jpg', '405_IDRiD_072_-2.jpg', '406_IDRiD_408_-1.jpg', '409_IDRiD_412_-2.jpg', '410_IDRiD_343_-2.jpg', '413_IDRiD_097_-2.jpg', '414_IDRiD_140_-0.jpg', '415_IDRiD_386_-0.jpg', '417_IDRiD_298_-0.jpg', '418_IDRiD_232_-2.jpg', '419_IDRiD_085_-2.jpg', '41_IDRiD_086_-2.jpg', '420_IDRiD_332_-2.jpg', '421_IDRiD_185_-2.jpg', '422_IDRiD_152_-0.jpg', '423_IDRiD_164_-0.jpg', '424_IDRiD_375_-2.jpg', '426_IDRiD_208_-2.jpg', '427_IDRiD_168_-0.jpg', '429_IDRiD_176_-0.jpg', '42_IDRiD_043_-0.jpg', '430_IDRiD_216_-2.jpg', '432_IDRiD_316_-0.jpg', '433_IDRiD_076_-2.jpg', '434_IDRiD_068_-2.jpg', '436_IDRiD_275_-0.jpg', '437_IDRiD_204_-0.jpg', '438_IDRiD_064_-2.jpg', '439_IDRiD_019_-2.jpg', '43_IDRiD_094_-0.jpg', '440_IDRiD_107_-2.jpg', '441_IDRiD_267_-0.jpg', '442_IDRiD_367_-0.jpg', '443_IDRiD_052_-2.jpg', '444_IDRiD_398_-2.jpg', '445_IDRiD_379_-1.jpg', '446_IDRiD_279_-1.jpg', '447_IDRiD_251_-0.jpg', '448_IDRiD_400_-0.jpg', '449_IDRiD_351_-0.jpg', '450_IDRiD_304_-1.jpg', '451_IDRiD_131_-2.jpg', '452_IDRiD_197_-0.jpg', '453_IDRiD_220_-0.jpg', '455_IDRiD_243_-0.jpg', '456_IDRiD_123_-2.jpg', '457_IDRiD_294_-2.jpg', '458_IDRiD_218_-0.jpg', '459_IDRiD_318_-0.jpg', '45_IDRiD_020_-2.jpg', '460_IDRiD_078_-2.jpg', '462_IDRiD_365_-0.jpg', '464_IDRiD_402_-1.jpg', '466_IDRiD_206_-0.jpg', '467_IDRiD_117_-2.jpg', '468_IDRiD_074_-2.jpg', '46_IDRiD_051_-2.jpg', '470_IDRiD_214_-0.jpg', '471_IDRiD_109_-2.jpg', '473_IDRiD_121_-2.jpg', '474_IDRiD_195_-0.jpg', '475_IDRiD_222_-0.jpg', '476_IDRiD_042_-2.jpg', '477_IDRiD_199_-0.jpg', '478_IDRiD_284_-2.jpg', '479_IDRiD_133_-2.jpg', '47_IDRiD_098_-0.jpg', '480_IDRiD_353_-0.jpg', '482_IDRiD_230_-0.jpg', '483_IDRiD_050_-2.jpg', '484_IDRiD_265_-1.jpg', '485_IDRiD_150_-0.jpg', '486_IDRiD_105_-1.jpg', '487_IDRiD_087_-2.jpg', '488_IDRiD_187_-2.jpg', '48_IDRiD_067_-2.jpg', '491_IDRiD_288_-0.jpg', '492_IDRiD_142_-0.jpg', '496_IDRiD_322_-2.jpg', '497_IDRiD_410_-2.jpg', '498_IDRiD_241_-2.jpg', '499_IDRiD_396_-0.jpg', '49_IDRiD_079_-2.jpg', '4_IDRiD_055_-0.jpg', '504_IDRiD_021_-1.jpg', '505_IDRiD_174_-0.jpg', '50_IDRiD_008_-2.jpg', '510_IDRiD_388_-1.jpg', '512_IDRiD_166_-0.jpg', '52_IDRiD_046_-2.jpg', '54_IDRiD_070_-0.jpg', '56_IDRiD_091_-2.jpg', '58_IDRiD_058_-0.jpg', '59_IDRiD_054_-0.jpg', '5_IDRiD_082_-2.jpg', '60_IDRiD_101_-1.jpg', '61_IDRiD_083_-2.jpg', '62_IDRiD_029_-0.jpg', '63_IDRiD_037_-0.jpg', '64_IDRiD_103_-0.jpg', '65_IDRiD_081_-2.jpg', '66_IDRiD_056_-0.jpg', '68_IDRiD_044_-0.jpg', '69_IDRiD_039_-0.jpg', '71_IDRiD_093_-0.jpg', '75_IDRiD_072_-2.jpg', '76_IDRiD_011_-2.jpg', '78_IDRiD_089_-2.jpg', '79_IDRiD_052_-0.jpg', '7_IDRiD_071_-0.jpg', '80_IDRiD_068_-0.jpg', '81_IDRiD_076_-2.jpg', '83_IDRiD_015_-2.jpg', '85_IDRiD_019_-2.jpg', '86_IDRiD_085_-1.jpg', '89_IDRiD_097_-0.jpg', '8_IDRiD_012_-2.jpg', '90_IDRiD_023_-2.jpg', '92_IDRiD_017_-2.jpg', '94_IDRiD_009_-2.jpg', '95_IDRiD_095_-0.jpg', '96_IDRiD_099_-0.jpg', '97_IDRiD_033_-2.jpg', '99_IDRiD_050_-0.jpg']\n"
     ]
    }
   ],
   "source": [
    "print(no_diabetic_images)\n"
   ]
  },
  {
   "cell_type": "code",
   "execution_count": 11,
   "metadata": {
    "collapsed": true
   },
   "outputs": [
    {
     "ename": "AttributeError",
     "evalue": "'numpy.ndarray' object has no attribute 'append'",
     "output_type": "error",
     "traceback": [
      "\u001b[1;31m---------------------------------------------------------------------------\u001b[0m",
      "\u001b[1;31mAttributeError\u001b[0m                            Traceback (most recent call last)",
      "\u001b[1;32m<ipython-input-11-e4b5671746ac>\u001b[0m in \u001b[0;36m<module>\u001b[1;34m\u001b[0m\n\u001b[0;32m      6\u001b[0m         \u001b[0mimage\u001b[0m\u001b[1;33m=\u001b[0m\u001b[0mImage\u001b[0m\u001b[1;33m.\u001b[0m\u001b[0mfromarray\u001b[0m\u001b[1;33m(\u001b[0m\u001b[0mimage\u001b[0m\u001b[1;33m,\u001b[0m \u001b[1;34m'RGB'\u001b[0m\u001b[1;33m)\u001b[0m\u001b[1;33m\u001b[0m\u001b[1;33m\u001b[0m\u001b[0m\n\u001b[0;32m      7\u001b[0m         \u001b[0mimage\u001b[0m\u001b[1;33m=\u001b[0m\u001b[0mimage\u001b[0m\u001b[1;33m.\u001b[0m\u001b[0mresize\u001b[0m\u001b[1;33m(\u001b[0m\u001b[1;33m(\u001b[0m\u001b[0mINPUT_SIZE\u001b[0m\u001b[1;33m,\u001b[0m\u001b[0mINPUT_SIZE\u001b[0m\u001b[1;33m)\u001b[0m\u001b[1;33m)\u001b[0m\u001b[1;33m\u001b[0m\u001b[1;33m\u001b[0m\u001b[0m\n\u001b[1;32m----> 8\u001b[1;33m         \u001b[0mdataset\u001b[0m\u001b[1;33m.\u001b[0m\u001b[0mappend\u001b[0m\u001b[1;33m(\u001b[0m\u001b[0mnp\u001b[0m\u001b[1;33m.\u001b[0m\u001b[0marray\u001b[0m\u001b[1;33m(\u001b[0m\u001b[0mimage\u001b[0m\u001b[1;33m)\u001b[0m\u001b[1;33m)\u001b[0m\u001b[1;33m\u001b[0m\u001b[1;33m\u001b[0m\u001b[0m\n\u001b[0m\u001b[0;32m      9\u001b[0m         \u001b[0mlabel\u001b[0m\u001b[1;33m.\u001b[0m\u001b[0mappend\u001b[0m\u001b[1;33m(\u001b[0m\u001b[1;36m0\u001b[0m\u001b[1;33m)\u001b[0m\u001b[1;33m\u001b[0m\u001b[1;33m\u001b[0m\u001b[0m\n\u001b[0;32m     10\u001b[0m \u001b[1;33m\u001b[0m\u001b[0m\n",
      "\u001b[1;31mAttributeError\u001b[0m: 'numpy.ndarray' object has no attribute 'append'"
     ]
    }
   ],
   "source": [
    "\n",
    "INPUT_SIZE=32\n",
    "\n",
    "for i,image_name in enumerate(no_diabetic_images):\n",
    "    if(image_name.split('.')[1]=='jpg'):\n",
    "        image=cv2.imread(image_directory+ 'no/'+image_name)\n",
    "        image=Image.fromarray(image, 'RGB')\n",
    "        image=image.resize((INPUT_SIZE,INPUT_SIZE))\n",
    "        dataset.append(np.array(image))\n",
    "        label.append(0)\n",
    "\n",
    "for i,image_name in enumerate(yes_diabetic_images):\n",
    "    if(image_name.split('.')[1]=='jpg'):\n",
    "        image=cv2.imread(image_directory+ 'yes/'+image_name)\n",
    "        image=Image.fromarray(image, 'RGB')\n",
    "        image=image.resize((INPUT_SIZE,INPUT_SIZE))\n",
    "        dataset.append(np.array(image))\n",
    "        label.append(1)\n",
    "\n",
    "dataset=np.array(dataset)\n",
    "\n",
    "label=np.array(label)\n",
    "\n",
    "x_train, x_test, y_train, y_test= train_test_split(dataset,label, test_size=0.2)\n",
    "\n",
    "#reshape = (n, image_width, image_height, n_channel)  \n",
    "\n",
    "#print(x_train.shape)\n",
    "#print(y_train.shape)\n",
    "\n",
    "#print(x_test.shape)\n",
    "#print(y_test.shape)\n",
    "\n",
    "x_train=normalize(x_train, axis=1)\n",
    "x_test=normalize(x_test, axis=1)\n",
    "\n",
    "y_train=tf.keras.utils.to_categorical(y_train, num_classes=2)\n",
    "y_test=tf.keras.utils.to_categorical(y_test, num_classes=2)\n",
    "\n",
    "\n",
    "model=Sequential()\n",
    "\n",
    "model.add(Conv2D(32, (3,3), input_shape=(INPUT_SIZE,INPUT_SIZE,3)))\n",
    "model.add(Activation('relu'))\n",
    "model.add(tf.keras.layers.MaxPool2D(pool_size=(2,2)))\n",
    "\n",
    "model.add(Conv2D(32, (3,3)))\n",
    "model.add(Activation('relu'))\n",
    "model.add(tf.keras.layers.MaxPool2D(pool_size=(2,2)))\n",
    "\n",
    "model.add(Conv2D(32, (3,3)))\n",
    "model.add(Activation('relu'))\n",
    "model.add(tf.keras.layers.MaxPool2D(pool_size=(2,2)))\n",
    "\n",
    "model.add(Flatten())\n",
    "model.add(Dense(64))\n",
    "model.add(Activation('relu'))\n",
    "model.add(Dropout(0.5))\n",
    "model.add(Dense(2))\n",
    "model.add(Activation('softmax'))\n",
    "\n",
    "          \n",
    "#Binary CrossEntropy= 1, sigmoid\n",
    "#categorical Cross Entropy= 2, softmax\n",
    "model.compile(loss='categorical_crossentropy',optimizer='adam', metrics=['accuracy'])        \n",
    "model.fit(x_train, y_train,validation_data=(x_test, y_test),batch_size=10, verbose=1, epochs=100, shuffle= False)\n",
    "#model.save('BrainTumor10epochsCategorical.h5')\n"
   ]
  },
  {
   "cell_type": "code",
   "execution_count": 20,
   "metadata": {},
   "outputs": [],
   "source": [
    "model.compile(loss='categorical_crossentropy',optimizer='adam', metrics=['accuracy'])\n"
   ]
  },
  {
   "cell_type": "code",
   "execution_count": 30,
   "metadata": {},
   "outputs": [
    {
     "name": "stdout",
     "output_type": "stream",
     "text": [
      "Epoch 1/100\n",
      "42/42 [==============================] - 0s 7ms/step - loss: 3.2499e-04 - accuracy: 1.0000 - val_loss: 4.6183 - val_accuracy: 0.6635\n",
      "Epoch 2/100\n",
      "42/42 [==============================] - 0s 7ms/step - loss: 0.0010 - accuracy: 1.0000 - val_loss: 4.6302 - val_accuracy: 0.6538\n",
      "Epoch 3/100\n",
      "42/42 [==============================] - 0s 7ms/step - loss: 2.0176e-04 - accuracy: 1.0000 - val_loss: 4.6438 - val_accuracy: 0.6538\n",
      "Epoch 4/100\n",
      "42/42 [==============================] - 0s 7ms/step - loss: 3.6434e-04 - accuracy: 1.0000 - val_loss: 4.6655 - val_accuracy: 0.6538\n",
      "Epoch 5/100\n",
      "42/42 [==============================] - 0s 7ms/step - loss: 0.0014 - accuracy: 1.0000 - val_loss: 4.6519 - val_accuracy: 0.6442\n",
      "Epoch 6/100\n",
      "42/42 [==============================] - 0s 7ms/step - loss: 9.9561e-04 - accuracy: 1.0000 - val_loss: 4.6445 - val_accuracy: 0.6346\n",
      "Epoch 7/100\n",
      "42/42 [==============================] - 0s 7ms/step - loss: 6.3260e-04 - accuracy: 1.0000 - val_loss: 4.6930 - val_accuracy: 0.6442\n",
      "Epoch 8/100\n",
      "42/42 [==============================] - 0s 7ms/step - loss: 5.6167e-04 - accuracy: 1.0000 - val_loss: 4.6968 - val_accuracy: 0.6538\n",
      "Epoch 9/100\n",
      "42/42 [==============================] - 0s 7ms/step - loss: 3.7668e-04 - accuracy: 1.0000 - val_loss: 4.7039 - val_accuracy: 0.6442\n",
      "Epoch 10/100\n",
      "42/42 [==============================] - 0s 7ms/step - loss: 8.3067e-04 - accuracy: 1.0000 - val_loss: 4.5273 - val_accuracy: 0.6442\n",
      "Epoch 11/100\n",
      "42/42 [==============================] - 0s 7ms/step - loss: 5.7049e-04 - accuracy: 1.0000 - val_loss: 4.5966 - val_accuracy: 0.6538\n",
      "Epoch 12/100\n",
      "42/42 [==============================] - 0s 7ms/step - loss: 2.2818e-04 - accuracy: 1.0000 - val_loss: 4.6575 - val_accuracy: 0.6538\n",
      "Epoch 13/100\n",
      "42/42 [==============================] - 0s 7ms/step - loss: 1.5700e-04 - accuracy: 1.0000 - val_loss: 4.6916 - val_accuracy: 0.6538\n",
      "Epoch 14/100\n",
      "42/42 [==============================] - 0s 7ms/step - loss: 8.6019e-04 - accuracy: 1.0000 - val_loss: 4.7761 - val_accuracy: 0.6250\n",
      "Epoch 15/100\n",
      "42/42 [==============================] - 0s 7ms/step - loss: 4.4897e-04 - accuracy: 1.0000 - val_loss: 4.7736 - val_accuracy: 0.6635\n",
      "Epoch 16/100\n",
      "42/42 [==============================] - 0s 7ms/step - loss: 5.9122e-04 - accuracy: 1.0000 - val_loss: 4.7607 - val_accuracy: 0.6538\n",
      "Epoch 17/100\n",
      "42/42 [==============================] - 0s 7ms/step - loss: 4.6724e-04 - accuracy: 1.0000 - val_loss: 4.8551 - val_accuracy: 0.6538\n",
      "Epoch 18/100\n",
      "42/42 [==============================] - 0s 7ms/step - loss: 2.6226e-04 - accuracy: 1.0000 - val_loss: 4.8449 - val_accuracy: 0.6538\n",
      "Epoch 19/100\n",
      "42/42 [==============================] - 0s 7ms/step - loss: 2.0802e-04 - accuracy: 1.0000 - val_loss: 4.8752 - val_accuracy: 0.6635\n",
      "Epoch 20/100\n",
      "42/42 [==============================] - 0s 7ms/step - loss: 1.5994e-04 - accuracy: 1.0000 - val_loss: 4.8963 - val_accuracy: 0.6635\n",
      "Epoch 21/100\n",
      "42/42 [==============================] - 0s 7ms/step - loss: 2.2685e-04 - accuracy: 1.0000 - val_loss: 4.9488 - val_accuracy: 0.6635\n",
      "Epoch 22/100\n",
      "42/42 [==============================] - 0s 7ms/step - loss: 3.0227e-04 - accuracy: 1.0000 - val_loss: 4.9546 - val_accuracy: 0.6635\n",
      "Epoch 23/100\n",
      "42/42 [==============================] - 0s 7ms/step - loss: 5.2350e-04 - accuracy: 1.0000 - val_loss: 5.0528 - val_accuracy: 0.6635\n",
      "Epoch 24/100\n",
      "42/42 [==============================] - 0s 7ms/step - loss: 7.7642e-04 - accuracy: 1.0000 - val_loss: 5.0569 - val_accuracy: 0.6635\n",
      "Epoch 25/100\n",
      "42/42 [==============================] - 0s 7ms/step - loss: 2.5437e-04 - accuracy: 1.0000 - val_loss: 5.0513 - val_accuracy: 0.6538\n",
      "Epoch 26/100\n",
      "42/42 [==============================] - 0s 7ms/step - loss: 1.1960e-04 - accuracy: 1.0000 - val_loss: 5.0702 - val_accuracy: 0.6538\n",
      "Epoch 27/100\n",
      "42/42 [==============================] - 0s 7ms/step - loss: 1.0903e-04 - accuracy: 1.0000 - val_loss: 5.0750 - val_accuracy: 0.6538\n",
      "Epoch 28/100\n",
      "42/42 [==============================] - 0s 7ms/step - loss: 1.7811e-04 - accuracy: 1.0000 - val_loss: 5.0672 - val_accuracy: 0.6538\n",
      "Epoch 29/100\n",
      "42/42 [==============================] - 0s 7ms/step - loss: 2.3133e-04 - accuracy: 1.0000 - val_loss: 5.0027 - val_accuracy: 0.6635\n",
      "Epoch 30/100\n",
      "42/42 [==============================] - 0s 7ms/step - loss: 0.0013 - accuracy: 1.0000 - val_loss: 5.0932 - val_accuracy: 0.6346\n",
      "Epoch 31/100\n",
      "42/42 [==============================] - 0s 7ms/step - loss: 0.0011 - accuracy: 1.0000 - val_loss: 4.9730 - val_accuracy: 0.6538\n",
      "Epoch 32/100\n",
      "42/42 [==============================] - 0s 7ms/step - loss: 3.5827e-04 - accuracy: 1.0000 - val_loss: 4.8394 - val_accuracy: 0.6346\n",
      "Epoch 33/100\n",
      "42/42 [==============================] - 0s 7ms/step - loss: 4.0047e-04 - accuracy: 1.0000 - val_loss: 4.7685 - val_accuracy: 0.6538\n",
      "Epoch 34/100\n",
      "42/42 [==============================] - 0s 7ms/step - loss: 2.3669e-04 - accuracy: 1.0000 - val_loss: 4.7858 - val_accuracy: 0.6538\n",
      "Epoch 35/100\n",
      "42/42 [==============================] - 0s 7ms/step - loss: 2.0240e-04 - accuracy: 1.0000 - val_loss: 4.8234 - val_accuracy: 0.6538\n",
      "Epoch 36/100\n",
      "42/42 [==============================] - 0s 7ms/step - loss: 3.1283e-04 - accuracy: 1.0000 - val_loss: 4.9826 - val_accuracy: 0.6442\n",
      "Epoch 37/100\n",
      "42/42 [==============================] - 0s 7ms/step - loss: 1.9601e-04 - accuracy: 1.0000 - val_loss: 5.0131 - val_accuracy: 0.6538\n",
      "Epoch 38/100\n",
      "42/42 [==============================] - 0s 7ms/step - loss: 4.7341e-04 - accuracy: 1.0000 - val_loss: 5.0591 - val_accuracy: 0.6442\n",
      "Epoch 39/100\n",
      "42/42 [==============================] - 0s 7ms/step - loss: 3.2339e-04 - accuracy: 1.0000 - val_loss: 5.0997 - val_accuracy: 0.6442\n",
      "Epoch 40/100\n",
      "42/42 [==============================] - 0s 7ms/step - loss: 2.1631e-04 - accuracy: 1.0000 - val_loss: 5.1388 - val_accuracy: 0.6635\n",
      "Epoch 41/100\n",
      "42/42 [==============================] - 0s 7ms/step - loss: 1.2243e-04 - accuracy: 1.0000 - val_loss: 5.1860 - val_accuracy: 0.6538\n",
      "Epoch 42/100\n",
      "42/42 [==============================] - 0s 7ms/step - loss: 2.4373e-04 - accuracy: 1.0000 - val_loss: 5.2317 - val_accuracy: 0.6442\n",
      "Epoch 43/100\n",
      "42/42 [==============================] - 0s 7ms/step - loss: 5.0284e-04 - accuracy: 1.0000 - val_loss: 5.1442 - val_accuracy: 0.6538\n",
      "Epoch 44/100\n",
      "42/42 [==============================] - 0s 7ms/step - loss: 1.7837e-04 - accuracy: 1.0000 - val_loss: 5.0899 - val_accuracy: 0.6442\n",
      "Epoch 45/100\n",
      "42/42 [==============================] - 0s 7ms/step - loss: 1.6459e-04 - accuracy: 1.0000 - val_loss: 5.0988 - val_accuracy: 0.6442\n",
      "Epoch 46/100\n",
      "42/42 [==============================] - 0s 7ms/step - loss: 3.0783e-04 - accuracy: 1.0000 - val_loss: 5.1954 - val_accuracy: 0.6538\n",
      "Epoch 47/100\n",
      "42/42 [==============================] - 0s 7ms/step - loss: 0.1355 - accuracy: 0.9660 - val_loss: 2.0288 - val_accuracy: 0.6635\n",
      "Epoch 48/100\n",
      "42/42 [==============================] - 0s 7ms/step - loss: 0.4705 - accuracy: 0.8422 - val_loss: 1.4249 - val_accuracy: 0.6058\n",
      "Epoch 49/100\n",
      "42/42 [==============================] - 0s 7ms/step - loss: 0.2876 - accuracy: 0.8786 - val_loss: 1.4152 - val_accuracy: 0.6827\n",
      "Epoch 50/100\n",
      "42/42 [==============================] - 0s 8ms/step - loss: 0.1891 - accuracy: 0.9248 - val_loss: 1.5364 - val_accuracy: 0.6154\n",
      "Epoch 51/100\n",
      "42/42 [==============================] - 0s 8ms/step - loss: 0.0986 - accuracy: 0.9684 - val_loss: 2.7536 - val_accuracy: 0.7019\n",
      "Epoch 52/100\n",
      "42/42 [==============================] - 0s 8ms/step - loss: 0.0968 - accuracy: 0.9684 - val_loss: 2.8414 - val_accuracy: 0.6250\n",
      "Epoch 53/100\n",
      "42/42 [==============================] - 0s 12ms/step - loss: 0.1234 - accuracy: 0.9587 - val_loss: 2.8919 - val_accuracy: 0.6154\n",
      "Epoch 54/100\n",
      "42/42 [==============================] - 1s 13ms/step - loss: 0.0807 - accuracy: 0.9782 - val_loss: 3.0466 - val_accuracy: 0.6538\n",
      "Epoch 55/100\n",
      "42/42 [==============================] - 1s 13ms/step - loss: 0.0411 - accuracy: 0.9879 - val_loss: 2.6830 - val_accuracy: 0.6538\n",
      "Epoch 56/100\n",
      "42/42 [==============================] - 1s 13ms/step - loss: 0.0259 - accuracy: 0.9951 - val_loss: 2.9582 - val_accuracy: 0.6346\n",
      "Epoch 57/100\n",
      "42/42 [==============================] - 0s 9ms/step - loss: 0.0149 - accuracy: 1.0000 - val_loss: 3.1407 - val_accuracy: 0.6250\n",
      "Epoch 58/100\n",
      "42/42 [==============================] - 0s 7ms/step - loss: 0.0343 - accuracy: 0.9903 - val_loss: 3.7255 - val_accuracy: 0.6538\n",
      "Epoch 59/100\n",
      "42/42 [==============================] - 0s 7ms/step - loss: 0.0397 - accuracy: 0.9830 - val_loss: 3.2478 - val_accuracy: 0.6346\n",
      "Epoch 60/100\n",
      "42/42 [==============================] - 0s 7ms/step - loss: 0.0174 - accuracy: 0.9951 - val_loss: 3.1528 - val_accuracy: 0.6538\n",
      "Epoch 61/100\n",
      "42/42 [==============================] - 0s 7ms/step - loss: 0.0077 - accuracy: 1.0000 - val_loss: 3.2860 - val_accuracy: 0.6154\n",
      "Epoch 62/100\n",
      "42/42 [==============================] - 0s 7ms/step - loss: 0.0069 - accuracy: 0.9976 - val_loss: 3.4192 - val_accuracy: 0.6442\n",
      "Epoch 63/100\n",
      "42/42 [==============================] - 0s 7ms/step - loss: 0.0034 - accuracy: 1.0000 - val_loss: 3.4392 - val_accuracy: 0.6442\n",
      "Epoch 64/100\n",
      "42/42 [==============================] - 0s 7ms/step - loss: 0.0013 - accuracy: 1.0000 - val_loss: 3.5259 - val_accuracy: 0.6442\n",
      "Epoch 65/100\n",
      "42/42 [==============================] - 0s 7ms/step - loss: 0.0028 - accuracy: 1.0000 - val_loss: 3.5894 - val_accuracy: 0.6442\n",
      "Epoch 66/100\n",
      "42/42 [==============================] - 0s 7ms/step - loss: 0.0022 - accuracy: 1.0000 - val_loss: 3.5862 - val_accuracy: 0.6346\n",
      "Epoch 67/100\n",
      "42/42 [==============================] - 0s 7ms/step - loss: 0.0048 - accuracy: 1.0000 - val_loss: 3.7199 - val_accuracy: 0.6442\n",
      "Epoch 68/100\n",
      "42/42 [==============================] - 0s 7ms/step - loss: 0.0031 - accuracy: 1.0000 - val_loss: 3.8914 - val_accuracy: 0.6346\n",
      "Epoch 69/100\n",
      "42/42 [==============================] - 1s 13ms/step - loss: 0.0025 - accuracy: 1.0000 - val_loss: 3.8080 - val_accuracy: 0.6154\n",
      "Epoch 70/100\n",
      "42/42 [==============================] - 1s 13ms/step - loss: 0.0019 - accuracy: 1.0000 - val_loss: 3.8400 - val_accuracy: 0.6442\n",
      "Epoch 71/100\n",
      "42/42 [==============================] - 1s 13ms/step - loss: 0.0024 - accuracy: 1.0000 - val_loss: 3.8464 - val_accuracy: 0.6250\n",
      "Epoch 72/100\n",
      "42/42 [==============================] - 1s 13ms/step - loss: 0.0023 - accuracy: 1.0000 - val_loss: 3.9222 - val_accuracy: 0.6442\n",
      "Epoch 73/100\n",
      "42/42 [==============================] - 0s 8ms/step - loss: 0.0059 - accuracy: 0.9976 - val_loss: 4.1427 - val_accuracy: 0.6154\n",
      "Epoch 74/100\n",
      "42/42 [==============================] - 0s 7ms/step - loss: 0.0296 - accuracy: 0.9854 - val_loss: 3.7634 - val_accuracy: 0.6154\n",
      "Epoch 75/100\n",
      "42/42 [==============================] - 0s 7ms/step - loss: 0.0051 - accuracy: 1.0000 - val_loss: 3.7753 - val_accuracy: 0.6058\n",
      "Epoch 76/100\n",
      "42/42 [==============================] - 0s 7ms/step - loss: 0.0178 - accuracy: 0.9927 - val_loss: 3.7513 - val_accuracy: 0.6250\n",
      "Epoch 77/100\n",
      "42/42 [==============================] - 0s 7ms/step - loss: 0.0311 - accuracy: 0.9879 - val_loss: 3.4316 - val_accuracy: 0.6154\n",
      "Epoch 78/100\n",
      "42/42 [==============================] - 0s 7ms/step - loss: 0.0113 - accuracy: 1.0000 - val_loss: 3.5859 - val_accuracy: 0.6058\n",
      "Epoch 79/100\n",
      "42/42 [==============================] - 0s 7ms/step - loss: 0.0021 - accuracy: 1.0000 - val_loss: 3.8453 - val_accuracy: 0.6250\n",
      "Epoch 80/100\n",
      "42/42 [==============================] - 0s 7ms/step - loss: 0.0014 - accuracy: 1.0000 - val_loss: 3.9631 - val_accuracy: 0.6154\n",
      "Epoch 81/100\n",
      "42/42 [==============================] - 0s 7ms/step - loss: 0.0016 - accuracy: 1.0000 - val_loss: 3.9267 - val_accuracy: 0.5962\n",
      "Epoch 82/100\n",
      "42/42 [==============================] - 0s 7ms/step - loss: 0.0015 - accuracy: 1.0000 - val_loss: 4.0049 - val_accuracy: 0.5962\n",
      "Epoch 83/100\n",
      "42/42 [==============================] - 0s 7ms/step - loss: 0.0015 - accuracy: 1.0000 - val_loss: 3.9733 - val_accuracy: 0.5962\n",
      "Epoch 84/100\n",
      "42/42 [==============================] - 0s 8ms/step - loss: 0.0014 - accuracy: 1.0000 - val_loss: 4.0488 - val_accuracy: 0.6250\n",
      "Epoch 85/100\n",
      "42/42 [==============================] - 1s 13ms/step - loss: 9.1600e-04 - accuracy: 1.0000 - val_loss: 4.1186 - val_accuracy: 0.6250\n",
      "Epoch 86/100\n",
      "42/42 [==============================] - 1s 13ms/step - loss: 0.0014 - accuracy: 1.0000 - val_loss: 4.1319 - val_accuracy: 0.5865\n",
      "Epoch 87/100\n",
      "42/42 [==============================] - 1s 13ms/step - loss: 0.0018 - accuracy: 1.0000 - val_loss: 3.9600 - val_accuracy: 0.5865\n",
      "Epoch 88/100\n",
      "42/42 [==============================] - 1s 13ms/step - loss: 0.0013 - accuracy: 1.0000 - val_loss: 4.0045 - val_accuracy: 0.6154\n",
      "Epoch 89/100\n",
      "42/42 [==============================] - 1s 13ms/step - loss: 0.0012 - accuracy: 1.0000 - val_loss: 4.0679 - val_accuracy: 0.6058\n",
      "Epoch 90/100\n",
      "42/42 [==============================] - 1s 13ms/step - loss: 7.1704e-04 - accuracy: 1.0000 - val_loss: 4.1113 - val_accuracy: 0.6154\n",
      "Epoch 91/100\n",
      "42/42 [==============================] - 0s 8ms/step - loss: 0.0023 - accuracy: 1.0000 - val_loss: 4.1243 - val_accuracy: 0.5962\n",
      "Epoch 92/100\n",
      "42/42 [==============================] - 0s 7ms/step - loss: 5.6188e-04 - accuracy: 1.0000 - val_loss: 4.1674 - val_accuracy: 0.5865\n",
      "Epoch 93/100\n",
      "42/42 [==============================] - 0s 7ms/step - loss: 8.6578e-04 - accuracy: 1.0000 - val_loss: 4.2326 - val_accuracy: 0.5962\n",
      "Epoch 94/100\n",
      "42/42 [==============================] - 0s 7ms/step - loss: 4.3769e-04 - accuracy: 1.0000 - val_loss: 4.2982 - val_accuracy: 0.5865\n",
      "Epoch 95/100\n",
      "42/42 [==============================] - 0s 7ms/step - loss: 7.7794e-04 - accuracy: 1.0000 - val_loss: 4.3870 - val_accuracy: 0.6058\n",
      "Epoch 96/100\n",
      "42/42 [==============================] - 0s 7ms/step - loss: 6.7860e-04 - accuracy: 1.0000 - val_loss: 4.3923 - val_accuracy: 0.5962\n",
      "Epoch 97/100\n",
      "42/42 [==============================] - 0s 7ms/step - loss: 5.5202e-04 - accuracy: 1.0000 - val_loss: 4.3760 - val_accuracy: 0.6154\n",
      "Epoch 98/100\n",
      "42/42 [==============================] - 0s 7ms/step - loss: 3.6622e-04 - accuracy: 1.0000 - val_loss: 4.4349 - val_accuracy: 0.6154\n",
      "Epoch 99/100\n",
      "42/42 [==============================] - 0s 7ms/step - loss: 8.2311e-04 - accuracy: 1.0000 - val_loss: 4.4015 - val_accuracy: 0.6058\n",
      "Epoch 100/100\n",
      "42/42 [==============================] - 0s 7ms/step - loss: 6.8765e-04 - accuracy: 1.0000 - val_loss: 4.4671 - val_accuracy: 0.6154\n"
     ]
    }
   ],
   "source": [
    "history=model.fit(x_train, y_train,validation_data=(x_test, y_test),batch_size=100, verbose=1, epochs=100, shuffle= False)\n"
   ]
  },
  {
   "cell_type": "code",
   "execution_count": 24,
   "metadata": {},
   "outputs": [],
   "source": [
    "history.history??"
   ]
  },
  {
   "cell_type": "code",
   "execution_count": 16,
   "metadata": {},
   "outputs": [
    {
     "name": "stdout",
     "output_type": "stream",
     "text": [
      "<keras.engine.sequential.Sequential object at 0x000002512B8E6760>\n"
     ]
    }
   ],
   "source": [
    "print(model)"
   ]
  },
  {
   "cell_type": "code",
   "execution_count": 17,
   "metadata": {},
   "outputs": [],
   "source": [
    "model.save('Diabetic_100epochsCategorical.h5')"
   ]
  },
  {
   "cell_type": "code",
   "execution_count": 18,
   "metadata": {},
   "outputs": [
    {
     "data": {
      "text/plain": [
       "array([0, 0, 0, 0, 0, 0, 0, 0, 0, 0, 0, 0, 0, 0, 0, 0, 0, 0, 0, 0, 0, 0,\n",
       "       0, 0, 0, 0, 0, 0, 0, 0, 0, 0, 0, 0, 0, 0, 0, 0, 0, 0, 0, 0, 0, 0,\n",
       "       0, 0, 0, 0, 0, 0, 0, 0, 0, 0, 0, 0, 0, 0, 0, 0, 0, 0, 0, 0, 0, 0,\n",
       "       0, 0, 0, 0, 0, 0, 0, 0, 0, 0, 0, 0, 0, 0, 0, 0, 0, 0, 0, 0, 0, 0,\n",
       "       0, 0, 0, 0, 0, 0, 0, 0, 0, 0, 0, 0, 0, 0, 0, 0, 0, 0, 0, 0, 0, 0,\n",
       "       0, 0, 0, 0, 0, 0, 0, 0, 0, 0, 0, 0, 0, 0, 0, 0, 0, 0, 0, 0, 0, 0,\n",
       "       0, 0, 0, 0, 0, 0, 0, 0, 0, 0, 0, 0, 0, 0, 0, 0, 0, 0, 0, 0, 0, 0,\n",
       "       0, 0, 0, 0, 0, 0, 0, 0, 0, 0, 0, 0, 0, 0, 0, 0, 0, 0, 0, 0, 0, 0,\n",
       "       0, 0, 0, 0, 0, 0, 0, 0, 0, 0, 0, 0, 0, 0, 0, 0, 0, 0, 0, 0, 0, 0,\n",
       "       0, 0, 0, 0, 0, 0, 0, 0, 0, 0, 0, 0, 0, 0, 0, 0, 0, 0, 0, 0, 0, 0,\n",
       "       0, 0, 0, 0, 0, 0, 0, 0, 0, 0, 0, 0, 0, 0, 0, 0, 0, 0, 0, 0, 0, 0,\n",
       "       0, 0, 0, 0, 0, 0, 0, 0, 0, 0, 0, 0, 0, 0, 0, 0, 0, 0, 0, 0, 0, 0,\n",
       "       0, 0, 0, 0, 0, 0, 0, 0, 0, 0, 0, 0, 0, 0, 0, 0, 0, 0, 0, 0, 0, 0,\n",
       "       0, 0, 0, 0, 0, 0, 0, 0, 0, 0, 0, 0, 0, 0, 0, 0, 0, 0, 0, 0, 0, 0,\n",
       "       0, 0, 0, 0, 0, 0, 0, 0, 0, 0, 0, 0, 0, 0, 0, 0, 0, 0, 0, 0, 0, 0,\n",
       "       0, 0, 0, 0, 0, 0, 0, 0, 0, 0, 0, 0, 0, 0, 0, 0, 0, 0, 0, 0, 0, 0,\n",
       "       0, 0, 0, 0, 0, 0, 0, 0, 0, 1, 1, 1, 1, 1, 1, 1, 1, 1, 1, 1, 1, 1,\n",
       "       1, 1, 1, 1, 1, 1, 1, 1, 1, 1, 1, 1, 1, 1, 1, 1, 1, 1, 1, 1, 1, 1,\n",
       "       1, 1, 1, 1, 1, 1, 1, 1, 1, 1, 1, 1, 1, 1, 1, 1, 1, 1, 1, 1, 1, 1,\n",
       "       1, 1, 1, 1, 1, 1, 1, 1, 1, 1, 1, 1, 1, 1, 1, 1, 1, 1, 1, 1, 1, 1,\n",
       "       1, 1, 1, 1, 1, 1, 1, 1, 1, 1, 1, 1, 1, 1, 1, 1, 1, 1, 1, 1, 1, 1,\n",
       "       1, 1, 1, 1, 1, 1, 1, 1, 1, 1, 1, 1, 1, 1, 1, 1, 1, 1, 1, 1, 1, 1,\n",
       "       1, 1, 1, 1, 1, 1, 1, 1, 1, 1, 1, 1, 1, 1, 1, 1, 1, 1, 1, 1, 1, 1,\n",
       "       1, 1, 1, 1, 1, 1, 1, 1, 1, 1])"
      ]
     },
     "execution_count": 18,
     "metadata": {},
     "output_type": "execute_result"
    }
   ],
   "source": [
    "label"
   ]
  },
  {
   "cell_type": "code",
   "execution_count": null,
   "metadata": {},
   "outputs": [],
   "source": []
  },
  {
   "cell_type": "code",
   "execution_count": 25,
   "metadata": {},
   "outputs": [
    {
     "data": {
      "text/plain": [
       "dict_keys(['loss', 'accuracy', 'val_loss', 'val_accuracy'])"
      ]
     },
     "execution_count": 25,
     "metadata": {},
     "output_type": "execute_result"
    }
   ],
   "source": [
    "history.history.keys()"
   ]
  },
  {
   "cell_type": "code",
   "execution_count": 31,
   "metadata": {},
   "outputs": [
    {
     "data": {
      "image/png": "[encoded data removed]",
      "text/plain": [
       "<Figure size 432x288 with 1 Axes>"
      ]
     },
     "metadata": {
      "needs_background": "light"
     },
     "output_type": "display_data"
    }
   ],
   "source": [
    "plt.plot(history.history['accuracy'])\n",
    "plt.title('model_accuracy')\n",
    "plt.ylabel('accuracy')\n",
    "plt.xlabel('epochs')\n",
    "plt.legend(['train'],loc='upper left')\n",
    "plt.show()"
   ]
  },
  {
   "cell_type": "code",
   "execution_count": 34,
   "metadata": {},
   "outputs": [
    {
     "data": {
      "image/png": "[encoded data removed]",
      "text/plain": [
       "<Figure size 432x288 with 1 Axes>"
      ]
     },
     "metadata": {
      "needs_background": "light"
     },
     "output_type": "display_data"
    }
   ],
   "source": [
    "plt.plot(history.history['loss'])\n",
    "plt.title('model_loss')\n",
    "plt.ylabel('loss')\n",
    "plt.xlabel('epochs')\n",
    "plt.legend(['train'],loc='upper left')\n",
    "plt.show()"
   ]
  },
  {
   "cell_type": "code",
   "execution_count": 35,
   "metadata": {},
   "outputs": [
    {
     "data": {
      "image/png": "[encoded data removed]",
      "text/plain": [
       "<Figure size 432x288 with 1 Axes>"
      ]
     },
     "metadata": {
      "needs_background": "light"
     },
     "output_type": "display_data"
    }
   ],
   "source": [
    "plt.plot(history.history['val_loss'])\n",
    "plt.title('model_loss')\n",
    "plt.ylabel('val_loss')\n",
    "plt.xlabel('epochs')\n",
    "plt.legend(['train'],loc='upper left')\n",
    "plt.show()"
   ]
  },
  {
   "cell_type": "code",
   "execution_count": 36,
   "metadata": {},
   "outputs": [
    {
     "data": {
      "image/png": "[encoded data removed]",
      "text/plain": [
       "<Figure size 432x288 with 1 Axes>"
      ]
     },
     "metadata": {
      "needs_background": "light"
     },
     "output_type": "display_data"
    }
   ],
   "source": [
    "plt.plot(history.history['val_accuracy'])\n",
    "plt.title('model_accuracy')\n",
    "plt.ylabel('val_accuracy')\n",
    "plt.xlabel('epochs')\n",
    "plt.legend(['train'],loc='upper right') \n",
    "plt.show()"
   ]
  },
  {
   "cell_type": "code",
   "execution_count": null,
   "metadata": {},
   "outputs": [],
   "source": []
  }
 ],
 "metadata": {
  "kernelspec": {
   "display_name": "Python 3",
   "language": "python",
   "name": "python3"
  },
  "language_info": {
   "codemirror_mode": {
    "name": "ipython",
    "version": 3
   },
   "file_extension": ".py",
   "mimetype": "text/x-python",
   "name": "python",
   "nbconvert_exporter": "python",
   "pygments_lexer": "ipython3",
   "version": "3.8.5"
  }
 },
 "nbformat": 4,
 "nbformat_minor": 4
}
