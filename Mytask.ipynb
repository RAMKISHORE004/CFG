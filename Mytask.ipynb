{
 "cells": [
  {
   "cell_type": "code",
   "execution_count": 27,
   "id": "2430c4d5",
   "metadata": {},
   "outputs": [],
   "source": [
    "#importing Required modules\n",
    "import pandas as pd\n",
    "from cassandra.cluster import Cluster\n",
    "from cassandra.query import dict_factory"
   ]
  },
  {
   "cell_type": "code",
   "execution_count": 28,
   "id": "981350c5",
   "metadata": {},
   "outputs": [],
   "source": [
    "#connection to cluster\n",
    "cluster=Cluster(['127.0.0.1'],port=9042)"
   ]
  },
  {
   "cell_type": "code",
   "execution_count": 29,
   "id": "e886808e",
   "metadata": {},
   "outputs": [],
   "source": [
    "#my_keyspace is a keyspace done using cqlsh command line \n",
    "session=cluster.connect('my_keyspace')\n"
   ]
  },
  {
   "cell_type": "code",
   "execution_count": 60,
   "id": "634c8a22",
   "metadata": {},
   "outputs": [
    {
     "data": {
      "text/plain": [
       "<cassandra.cluster.ResultSet at 0x7fe1b6c48f40>"
      ]
     },
     "execution_count": 60,
     "metadata": {},
     "output_type": "execute_result"
    }
   ],
   "source": [
    "#to create a keyspace here\n",
    "session.execute('''CREATE KEYSPACE my_keyspace2 WITH replication = {'class': 'SimpleStrategy', 'replication_factor' : 1};''')\n"
   ]
  },
  {
   "cell_type": "code",
   "execution_count": 61,
   "id": "ae178226",
   "metadata": {},
   "outputs": [
    {
     "data": {
      "text/plain": [
       "<cassandra.cluster.ResultSet at 0x7fe1b7c8b700>"
      ]
     },
     "execution_count": 61,
     "metadata": {},
     "output_type": "execute_result"
    }
   ],
   "source": [
    "session.execute('''USE my_keyspace2;''')"
   ]
  },
  {
   "cell_type": "code",
   "execution_count": 62,
   "id": "d6ca9575",
   "metadata": {},
   "outputs": [
    {
     "name": "stdout",
     "output_type": "stream",
     "text": [
      "done\n"
     ]
    }
   ],
   "source": [
    "#Creating table songs with required attributes\n",
    "session.execute('''CREATE TABLE songs(song_title varchar PRIMARY KEY,artist_name varchar,year date, album_name boolean,single varchar);''')\n",
    "print(\"done\")"
   ]
  },
  {
   "cell_type": "code",
   "execution_count": 63,
   "id": "7394efb6",
   "metadata": {},
   "outputs": [
    {
     "name": "stdout",
     "output_type": "stream",
     "text": [
      "done\n"
     ]
    }
   ],
   "source": [
    "#Inserting Values\n",
    "session.execute('''INSERT INTO songs(song_title,artist_name,year,album_name,single) VALUES ('Across The Universe','The Beatles','1970',False,'Let It Be');''')\n",
    "print(\"done\")"
   ]
  },
  {
   "cell_type": "code",
   "execution_count": 43,
   "id": "39dbf7cc",
   "metadata": {},
   "outputs": [
    {
     "name": "stdout",
     "output_type": "stream",
     "text": [
      "done\n"
     ]
    }
   ],
   "source": [
    "session.execute('''INSERT INTO songs(song_title,artist_name,year,album_name,single) VALUES ('The Beatles','Think For Yourself','1965',False,'Rubber Soul');''')\n",
    "print(\"done\")"
   ]
  },
  {
   "cell_type": "code",
   "execution_count": 30,
   "id": "a82b692e",
   "metadata": {},
   "outputs": [],
   "source": [
    "session.row_factory=dict_factory"
   ]
  },
  {
   "cell_type": "code",
   "execution_count": 44,
   "id": "22d7aeaa",
   "metadata": {},
   "outputs": [],
   "source": [
    "#We can obsereve that rows retured are cassandra objects hence we can convert them to pandas dataframe\n",
    "rows=session.execute('select * from songs')"
   ]
  },
  {
   "cell_type": "code",
   "execution_count": 45,
   "id": "44e9fcd3",
   "metadata": {},
   "outputs": [
    {
     "name": "stdout",
     "output_type": "stream",
     "text": [
      "{'song_title': 'The Beatles', 'album_name': False, 'artist_name': 'Think For Yourself', 'single': 'Rubber Soul', 'year': Date(-2147481683)}\n"
     ]
    },
    {
     "name": "stderr",
     "output_type": "stream",
     "text": [
      "/tmp/ipykernel_16361/990529502.py:1: DeprecationWarning: ResultSet indexing support will be removed in 4.0. Consider using ResultSet.one() to get a single row.\n",
      "  print(rows[0])\n"
     ]
    }
   ],
   "source": [
    "print(rows[0])"
   ]
  },
  {
   "cell_type": "code",
   "execution_count": 46,
   "id": "6e4a9cb6",
   "metadata": {},
   "outputs": [
    {
     "data": {
      "text/html": [
       "<div>\n",
       "<style scoped>\n",
       "    .dataframe tbody tr th:only-of-type {\n",
       "        vertical-align: middle;\n",
       "    }\n",
       "\n",
       "    .dataframe tbody tr th {\n",
       "        vertical-align: top;\n",
       "    }\n",
       "\n",
       "    .dataframe thead th {\n",
       "        text-align: right;\n",
       "    }\n",
       "</style>\n",
       "<table border=\"1\" class=\"dataframe\">\n",
       "  <thead>\n",
       "    <tr style=\"text-align: right;\">\n",
       "      <th></th>\n",
       "      <th>song_title</th>\n",
       "      <th>album_name</th>\n",
       "      <th>artist_name</th>\n",
       "      <th>single</th>\n",
       "      <th>year</th>\n",
       "    </tr>\n",
       "  </thead>\n",
       "  <tbody>\n",
       "    <tr>\n",
       "      <th>0</th>\n",
       "      <td>The Beatles</td>\n",
       "      <td>False</td>\n",
       "      <td>Think For Yourself</td>\n",
       "      <td>Rubber Soul</td>\n",
       "      <td>-2147481683</td>\n",
       "    </tr>\n",
       "    <tr>\n",
       "      <th>1</th>\n",
       "      <td>Across The Universe</td>\n",
       "      <td>False</td>\n",
       "      <td>The Beatles</td>\n",
       "      <td>Let It Be</td>\n",
       "      <td>-2147481678</td>\n",
       "    </tr>\n",
       "  </tbody>\n",
       "</table>\n",
       "</div>"
      ],
      "text/plain": [
       "            song_title  album_name         artist_name       single  \\\n",
       "0          The Beatles       False  Think For Yourself  Rubber Soul   \n",
       "1  Across The Universe       False         The Beatles    Let It Be   \n",
       "\n",
       "          year  \n",
       "0  -2147481683  \n",
       "1  -2147481678  "
      ]
     },
     "execution_count": 46,
     "metadata": {},
     "output_type": "execute_result"
    }
   ],
   "source": [
    "df=pd.DataFrame(rows[:])\n",
    "df"
   ]
  },
  {
   "cell_type": "code",
   "execution_count": 58,
   "id": "9544c2cc",
   "metadata": {},
   "outputs": [
    {
     "name": "stdout",
     "output_type": "stream",
     "text": [
      "done\n"
     ]
    }
   ],
   "source": [
    "#executing required query\n",
    "req_row=session.execute('''select * from songs WHERE year=1970 AND artist_name='The Beatles' ALLOW FILTERING ''')\n",
    "print(\"done\")"
   ]
  },
  {
   "cell_type": "code",
   "execution_count": 59,
   "id": "978fe353",
   "metadata": {},
   "outputs": [
    {
     "data": {
      "text/html": [
       "<div>\n",
       "<style scoped>\n",
       "    .dataframe tbody tr th:only-of-type {\n",
       "        vertical-align: middle;\n",
       "    }\n",
       "\n",
       "    .dataframe tbody tr th {\n",
       "        vertical-align: top;\n",
       "    }\n",
       "\n",
       "    .dataframe thead th {\n",
       "        text-align: right;\n",
       "    }\n",
       "</style>\n",
       "<table border=\"1\" class=\"dataframe\">\n",
       "  <thead>\n",
       "    <tr style=\"text-align: right;\">\n",
       "      <th></th>\n",
       "      <th>song_title</th>\n",
       "      <th>album_name</th>\n",
       "      <th>artist_name</th>\n",
       "      <th>single</th>\n",
       "      <th>year</th>\n",
       "    </tr>\n",
       "  </thead>\n",
       "  <tbody>\n",
       "    <tr>\n",
       "      <th>0</th>\n",
       "      <td>Across The Universe</td>\n",
       "      <td>False</td>\n",
       "      <td>The Beatles</td>\n",
       "      <td>Let It Be</td>\n",
       "      <td>-2147481678</td>\n",
       "    </tr>\n",
       "  </tbody>\n",
       "</table>\n",
       "</div>"
      ],
      "text/plain": [
       "            song_title  album_name  artist_name     single         year\n",
       "0  Across The Universe       False  The Beatles  Let It Be  -2147481678"
      ]
     },
     "execution_count": 59,
     "metadata": {},
     "output_type": "execute_result"
    }
   ],
   "source": [
    "df=pd.DataFrame(req_row[:])\n",
    "df"
   ]
  },
  {
   "cell_type": "code",
   "execution_count": null,
   "id": "a171211e",
   "metadata": {},
   "outputs": [],
   "source": []
  }
 ],
 "metadata": {
  "kernelspec": {
   "display_name": "Python 3 (ipykernel)",
   "language": "python",
   "name": "python3"
  },
  "language_info": {
   "codemirror_mode": {
    "name": "ipython",
    "version": 3
   },
   "file_extension": ".py",
   "mimetype": "text/x-python",
   "name": "python",
   "nbconvert_exporter": "python",
   "pygments_lexer": "ipython3",
   "version": "3.8.10"
  }
 },
 "nbformat": 4,
 "nbformat_minor": 5
}
